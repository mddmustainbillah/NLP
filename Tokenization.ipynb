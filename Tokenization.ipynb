{
 "cells": [
  {
   "cell_type": "code",
   "execution_count": null,
   "metadata": {},
   "outputs": [],
   "source": [
    "# it's use for seprate the sentences and words."
   ]
  },
  {
   "cell_type": "markdown",
   "metadata": {},
   "source": [
    "# Tokenization"
   ]
  },
  {
   "cell_type": "code",
   "execution_count": 1,
   "metadata": {},
   "outputs": [],
   "source": [
    "import nltk\n"
   ]
  },
  {
   "cell_type": "code",
   "execution_count": 2,
   "metadata": {},
   "outputs": [
    {
     "name": "stdout",
     "output_type": "stream",
     "text": [
      "showing info https://raw.githubusercontent.com/nltk/nltk_data/gh-pages/index.xml\n"
     ]
    },
    {
     "data": {
      "text/plain": [
       "True"
      ]
     },
     "execution_count": 2,
     "metadata": {},
     "output_type": "execute_result"
    }
   ],
   "source": [
    "nltk.download()"
   ]
  },
  {
   "cell_type": "code",
   "execution_count": 3,
   "metadata": {},
   "outputs": [
    {
     "name": "stderr",
     "output_type": "stream",
     "text": [
      "[nltk_data] Downloading package punkt to\n",
      "[nltk_data]     /Users/mustainbillah/nltk_data...\n",
      "[nltk_data]   Unzipping tokenizers/punkt.zip.\n"
     ]
    },
    {
     "data": {
      "text/plain": [
       "True"
      ]
     },
     "execution_count": 3,
     "metadata": {},
     "output_type": "execute_result"
    }
   ],
   "source": [
    "nltk.download('punkt')"
   ]
  },
  {
   "cell_type": "code",
   "execution_count": 4,
   "metadata": {},
   "outputs": [],
   "source": [
    "paragraph = \"\"\"This week we will overview so-called task-oriented dialog systems like Apple \n",
    "    Siri or Amazon Alexa. We will look in details at main building blocks of such\n",
    "    systems namely Natural Language Understanding (NLU) and Dialog Manager (DM).\n",
    "    We hope this week will encourage you to build your own dialog system as a final project!\"\"\""
   ]
  },
  {
   "cell_type": "code",
   "execution_count": 5,
   "metadata": {},
   "outputs": [],
   "source": [
    "sentences = nltk.sent_tokenize(paragraph)"
   ]
  },
  {
   "cell_type": "code",
   "execution_count": 6,
   "metadata": {},
   "outputs": [
    {
     "data": {
      "text/plain": [
       "['This week we will overview so-called task-oriented dialog systems like Apple \\n    Siri or Amazon Alexa.',\n",
       " 'We will look in details at main building blocks of such\\n    systems namely Natural Language Understanding (NLU) and Dialog Manager (DM).',\n",
       " 'We hope this week will encourage you to build your own dialog system as a final project!']"
      ]
     },
     "execution_count": 6,
     "metadata": {},
     "output_type": "execute_result"
    }
   ],
   "source": [
    "sentences"
   ]
  },
  {
   "cell_type": "code",
   "execution_count": 7,
   "metadata": {},
   "outputs": [],
   "source": [
    "words = nltk.word_tokenize(paragraph)"
   ]
  },
  {
   "cell_type": "code",
   "execution_count": 8,
   "metadata": {},
   "outputs": [
    {
     "data": {
      "text/plain": [
       "['This',\n",
       " 'week',\n",
       " 'we',\n",
       " 'will',\n",
       " 'overview',\n",
       " 'so-called',\n",
       " 'task-oriented',\n",
       " 'dialog',\n",
       " 'systems',\n",
       " 'like',\n",
       " 'Apple',\n",
       " 'Siri',\n",
       " 'or',\n",
       " 'Amazon',\n",
       " 'Alexa',\n",
       " '.',\n",
       " 'We',\n",
       " 'will',\n",
       " 'look',\n",
       " 'in',\n",
       " 'details',\n",
       " 'at',\n",
       " 'main',\n",
       " 'building',\n",
       " 'blocks',\n",
       " 'of',\n",
       " 'such',\n",
       " 'systems',\n",
       " 'namely',\n",
       " 'Natural',\n",
       " 'Language',\n",
       " 'Understanding',\n",
       " '(',\n",
       " 'NLU',\n",
       " ')',\n",
       " 'and',\n",
       " 'Dialog',\n",
       " 'Manager',\n",
       " '(',\n",
       " 'DM',\n",
       " ')',\n",
       " '.',\n",
       " 'We',\n",
       " 'hope',\n",
       " 'this',\n",
       " 'week',\n",
       " 'will',\n",
       " 'encourage',\n",
       " 'you',\n",
       " 'to',\n",
       " 'build',\n",
       " 'your',\n",
       " 'own',\n",
       " 'dialog',\n",
       " 'system',\n",
       " 'as',\n",
       " 'a',\n",
       " 'final',\n",
       " 'project',\n",
       " '!']"
      ]
     },
     "execution_count": 8,
     "metadata": {},
     "output_type": "execute_result"
    }
   ],
   "source": [
    "words"
   ]
  },
  {
   "cell_type": "code",
   "execution_count": null,
   "metadata": {},
   "outputs": [],
   "source": []
  }
 ],
 "metadata": {
  "kernelspec": {
   "display_name": "Python 3.7 (tensorflow)",
   "language": "python",
   "name": "tensorflow"
  },
  "language_info": {
   "codemirror_mode": {
    "name": "ipython",
    "version": 3
   },
   "file_extension": ".py",
   "mimetype": "text/x-python",
   "name": "python",
   "nbconvert_exporter": "python",
   "pygments_lexer": "ipython3",
   "version": "3.7.6"
  }
 },
 "nbformat": 4,
 "nbformat_minor": 2
}
